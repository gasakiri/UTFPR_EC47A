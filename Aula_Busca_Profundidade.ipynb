{
 "cells": [
  {
   "cell_type": "code",
   "execution_count": 2,
   "id": "c0ebe3d1-00de-4ba0-9a38-a76d41c33fac",
   "metadata": {
    "id": "c0ebe3d1-00de-4ba0-9a38-a76d41c33fac"
   },
   "outputs": [],
   "source": [
    "# Construção manual do dicionário\n",
    "def criaListaAdj() -> dict:\n",
    "    listaAdj = {\n",
    "        \"Arad\": {\"Sibiu\": 140, \"Zerind\": 75, \"Timisoara\": 118},\n",
    "        \"Zerind\": {\"Arad\": 75, \"Oradea\": 71},\n",
    "        \"Oradea\": {\"Zerind\": 71, \"Sibiu\": 151},\n",
    "        \"Sibiu\": {\"Arad\": 140, \"Oradea\": 151, \"Fagaras\": 99, \"Rimnicu\": 80},\n",
    "        \"Timisoara\": {\"Arad\": 118, \"Lugoj\": 111},\n",
    "        \"Lugoj\": {\"Timisoara\": 111, \"Mehadia\": 70},\n",
    "        \"Mehadia\": {\"Lugoj\": 70, \"Dobreta\": 75},\n",
    "        \"Dobreta\": {\"Mehadia\": 75, \"Craiova\": 120},\n",
    "        \"Craiova\": {\"Dobreta\": 120, \"Rimnicu\": 146, \"Pitesti\": 138},\n",
    "        \"Rimnicu\": {\"Sibiu\": 80, \"Craiova\": 146, \"Pitesti\": 97},\n",
    "        \"Fagaras\": {\"Sibiu\": 99, \"Bucharest\": 211},\n",
    "        \"Pitesti\": {\"Rimnicu\": 97, \"Craiova\": 138, \"Bucharest\": 101},\n",
    "        \"Bucharest\": {\"Fagaras\": 211, \"Pitesti\": 101, \"Giurgiu\": 90, \"Urziceni\": 85},\n",
    "        \"Giurgiu\": {\"Bucharest\": 90},\n",
    "        \"Urziceni\": {\"Bucharest\": 85, \"Vaslui\": 142, \"Hirsova\": 98},\n",
    "        \"Hirsova\": {\"Urziceni\": 98, \"Eforie\": 86},\n",
    "        \"Eforie\": {\"Hirsova\": 86},\n",
    "        \"Vaslui\": {\"Iasi\": 92, \"Urziceni\": 142},\n",
    "        \"Iasi\": {\"Vaslui\": 92, \"Neamt\": 87},\n",
    "        \"Neamt\": {\"Iasi\": 87},\n",
    "    }\n",
    "    return listaAdj"
   ]
  },
  {
   "cell_type": "code",
   "execution_count": 4,
   "id": "I3R2631Dhz8s",
   "metadata": {
    "id": "I3R2631Dhz8s"
   },
   "outputs": [],
   "source": [
    "# Função Busca em Profundidade\n",
    "def dfs(listaAdj: dict, cidade: str, objetivo: str) -> list:\n",
    "\n",
    "    # Cria as listas fronteiras e visitados\n",
    "    fronteira = []  # Pilha\n",
    "    visitados = []\n",
    "\n",
    "    # Adiciona a primeira cidade na fronteira\n",
    "    fronteira.append(cidade)\n",
    "\n",
    "    # Enquanto existir cidades na fronteira\n",
    "    while fronteira:\n",
    "        # Pega a cidade que foi inserida por última (estrutura pilha)\n",
    "        # O topo da Pilha será considerado como o final da lista\n",
    "        ## Percurso prioriza o caminho pela profundidade do nó\n",
    "        s = fronteira.pop()\n",
    "\n",
    "        # Inclua a cidade na lista de visitados\n",
    "        visitados.append(s)\n",
    "\n",
    "        # Verifica se alcançou a cidade destino\n",
    "        if s == objetivo:\n",
    "            break\n",
    "\n",
    "        # Inclui as cidades vizinhas na fronteira\n",
    "        for vizinho in listaAdj[s].keys():\n",
    "            if vizinho not in visitados:\n",
    "                fronteira.append(vizinho)\n",
    "\n",
    "    # Retorna a lista de cidades visitadas\n",
    "    return visitados"
   ]
  },
  {
   "cell_type": "code",
   "execution_count": 5,
   "id": "Fj0Mbn7hs3IK",
   "metadata": {
    "colab": {
     "base_uri": "https://localhost:8080/"
    },
    "id": "Fj0Mbn7hs3IK",
    "outputId": "b48b4be3-1b90-4aca-d42d-e3315e60dfcb"
   },
   "outputs": [
    {
     "name": "stdout",
     "output_type": "stream",
     "text": [
      "Visitados: ['Arad', 'Timisoara', 'Lugoj', 'Mehadia', 'Dobreta', 'Craiova', 'Pitesti', 'Bucharest']\n"
     ]
    }
   ],
   "source": [
    "# Teste da busca em profundidade\n",
    "cidades = criaListaAdj()\n",
    "percurso = dfs(cidades, \"Arad\", \"Bucharest\")\n",
    "print(f\"Visitados: {percurso}\")"
   ]
  }
 ],
 "metadata": {
  "colab": {
   "provenance": []
  },
  "kernelspec": {
   "display_name": "Python 3 (ipykernel)",
   "language": "python",
   "name": "python3"
  },
  "language_info": {
   "codemirror_mode": {
    "name": "ipython",
    "version": 3
   },
   "file_extension": ".py",
   "mimetype": "text/x-python",
   "name": "python",
   "nbconvert_exporter": "python",
   "pygments_lexer": "ipython3",
   "version": "3.13.2"
  }
 },
 "nbformat": 4,
 "nbformat_minor": 5
}
