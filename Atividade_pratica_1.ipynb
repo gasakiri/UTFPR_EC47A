{
 "cells": [
  {
   "cell_type": "code",
   "execution_count": 1,
   "metadata": {
    "colab": {
     "base_uri": "https://localhost:8080/",
     "height": 88
    },
    "id": "23ODsScl8CRC",
    "outputId": "009de793-94e7-4787-fa63-1d203575dda2"
   },
   "outputs": [
    {
     "data": {
      "application/vnd.google.colaboratory.intrinsic+json": {
       "type": "string"
      },
      "text/plain": [
       "\" \\nConsidere o problema de Arad a Bucharest, desenvolva uma estrutura de dados em Python que leve em consideração as seguintes informações:\\n\\ni) Dados das cidades no arquivo distancias.txt; \\nii) Qual representação (estrutura de dados) em Python poderíamos utilizar para desenvolver a árvore de busca?\\niii) Desenvolva uma função que receba a estrutura gerada anteriormente (passo (ii)) e, para uma determinada cidade, retornar uma lista das cidades vizinhas. \\nExemplo: função vizinhos('Arad') - Saída:  ['Sibiu', 'Zerind', 'Timisoara']\\n\\nAtividade de Reforço\\n\""
      ]
     },
     "execution_count": 1,
     "metadata": {},
     "output_type": "execute_result"
    }
   ],
   "source": [
    "\"\"\"\n",
    "Considere o problema de Arad a Bucharest, desenvolva uma estrutura de dados em Python que leve em consideração as seguintes informações:\n",
    "\n",
    "i) Dados das cidades no arquivo distancias.txt;\n",
    "ii) Qual representação (estrutura de dados) em Python poderíamos utilizar para desenvolver a árvore de busca?\n",
    "iii) Desenvolva uma função que receba a estrutura gerada anteriormente (passo (ii)) e, para uma determinada cidade, retornar uma lista das cidades vizinhas.\n",
    "Exemplo: função vizinhos('Arad') - Saída:  ['Sibiu', 'Zerind', 'Timisoara']\n",
    "\n",
    "Atividade de Reforço\n",
    "\"\"\""
   ]
  },
  {
   "cell_type": "code",
   "execution_count": 2,
   "metadata": {
    "id": "432iPHPN8LPy"
   },
   "outputs": [],
   "source": [
    "# Construção manual do dicionário\n",
    "def criaListaAdj():\n",
    "    listaAdj = {\n",
    "        \"Arad\": {\"Sibiu\": 140, \"Zerind\": 75, \"Timisoara\": 118},\n",
    "        \"Zerind\": {\"Arad\": 75, \"Oradea\": 71},\n",
    "        \"Oradea\": {\"Zerind\": 71, \"Sibiu\": 151},\n",
    "        \"Sibiu\": {\"Arad\": 140, \"Oradea\": 151, \"Fagaras\": 99, \"Rimnicu\": 80},\n",
    "        \"Timisoara\": {\"Arad\": 118, \"Lugoj\": 111},\n",
    "        \"Lugoj\": {\"Timisoara\": 111, \"Mehadia\": 70},\n",
    "        \"Mehadia\": {\"Lugoj\": 70, \"Dobreta\": 75},\n",
    "        \"Dobreta\": {\"Mehadia\": 75, \"Craiova\": 120},\n",
    "        \"Craiova\": {\"Dobreta\": 120, \"Rimnicu\": 146, \"Pitesti\": 138},\n",
    "        \"Rimnicu\": {\"Sibiu\": 80, \"Craiova\": 146, \"Pitesti\": 97},\n",
    "        \"Fagaras\": {\"Sibiu\": 99, \"Bucharest\": 211},\n",
    "        \"Pitesti\": {\"Rimnicu\": 97, \"Craiova\": 138, \"Bucharest\": 101},\n",
    "        \"Bucharest\": {\"Fagaras\": 211, \"Pitesti\": 101, \"Giurgiu\": 90, \"Urziceni\": 85},\n",
    "        \"Giurgiu\": {\"Bucharest\": 90},\n",
    "        \"Urziceni\": {\"Bucharest\": 85, \"Vaslui\": 142, \"Hirsova\": 98},\n",
    "        \"Hirsova\": {\"Urziceni\": 98, \"Eforie\": 86},\n",
    "        \"Eforie\": {\"Hirsova\": 86},\n",
    "        \"Vaslui\": {\"Iasi\": 92, \"Urziceni\": 142},\n",
    "        \"Iasi\": {\"Vaslui\": 92, \"Neamt\": 87},\n",
    "        \"Neamt\": {\"Iasi\": 87},\n",
    "    }\n",
    "    return listaAdj"
   ]
  },
  {
   "cell_type": "code",
   "execution_count": 3,
   "metadata": {
    "id": "cBmfx7gT8Vwj"
   },
   "outputs": [],
   "source": [
    "def vizinhos(listaAdj: dict, cidade: str) -> list:\n",
    "    cidades_vizinhas = []\n",
    "    for cidade_vizinha in listaAdj[cidade]:\n",
    "        cidades_vizinhas.append(cidade_vizinha)\n",
    "    return cidades_vizinhas"
   ]
  },
  {
   "cell_type": "code",
   "execution_count": 5,
   "metadata": {
    "colab": {
     "base_uri": "https://localhost:8080/"
    },
    "id": "_E26JpK99Ipv",
    "outputId": "1144506a-0d8c-4afc-fcbe-00272a048216"
   },
   "outputs": [
    {
     "name": "stdout",
     "output_type": "stream",
     "text": [
      "Cidades vizinhas de Arad: ['Sibiu', 'Zerind', 'Timisoara']\n"
     ]
    }
   ],
   "source": [
    "cidades = criaListaAdj()\n",
    "cidade = input(\"Cidade: \").strip()\n",
    "cidades_vizinhas = vizinhos(cidades, cidade)\n",
    "print(f\"Cidades vizinhas de {cidade}: {cidades_vizinhas}\")"
   ]
  }
 ],
 "metadata": {
  "colab": {
   "provenance": []
  },
  "kernelspec": {
   "display_name": "Python 3 (ipykernel)",
   "language": "python",
   "name": "python3"
  },
  "language_info": {
   "codemirror_mode": {
    "name": "ipython",
    "version": 3
   },
   "file_extension": ".py",
   "mimetype": "text/x-python",
   "name": "python",
   "nbconvert_exporter": "python",
   "pygments_lexer": "ipython3",
   "version": "3.13.2"
  }
 },
 "nbformat": 4,
 "nbformat_minor": 0
}
