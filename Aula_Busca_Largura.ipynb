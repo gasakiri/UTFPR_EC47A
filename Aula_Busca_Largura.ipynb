{
 "cells": [
  {
   "cell_type": "code",
   "execution_count": 1,
   "id": "def63f40",
   "metadata": {},
   "outputs": [],
   "source": [
    "# Construção manual do dicionário\n",
    "def criaListaAdj() -> dict:\n",
    "    listaAdj = {\n",
    "        \"Arad\": {\"Sibiu\": 140, \"Zerind\": 75, \"Timisoara\": 118},\n",
    "        \"Zerind\": {\"Arad\": 75, \"Oradea\": 71},\n",
    "        \"Oradea\": {\"Zerind\": 71, \"Sibiu\": 151},\n",
    "        \"Sibiu\": {\"Arad\": 140, \"Oradea\": 151, \"Fagaras\": 99, \"Rimnicu\": 80},\n",
    "        \"Timisoara\": {\"Arad\": 118, \"Lugoj\": 111},\n",
    "        \"Lugoj\": {\"Timisoara\": 111, \"Mehadia\": 70},\n",
    "        \"Mehadia\": {\"Lugoj\": 70, \"Dobreta\": 75},\n",
    "        \"Dobreta\": {\"Mehadia\": 75, \"Craiova\": 120},\n",
    "        \"Craiova\": {\"Dobreta\": 120, \"Rimnicu\": 146, \"Pitesti\": 138},\n",
    "        \"Rimnicu\": {\"Sibiu\": 80, \"Craiova\": 146, \"Pitesti\": 97},\n",
    "        \"Fagaras\": {\"Sibiu\": 99, \"Bucharest\": 211},\n",
    "        \"Pitesti\": {\"Rimnicu\": 97, \"Craiova\": 138, \"Bucharest\": 101},\n",
    "        \"Bucharest\": {\"Fagaras\": 211, \"Pitesti\": 101, \"Giurgiu\": 90, \"Urziceni\": 85},\n",
    "        \"Giurgiu\": {\"Bucharest\": 90},\n",
    "        \"Urziceni\": {\"Bucharest\": 85, \"Vaslui\": 142, \"Hirsova\": 98},\n",
    "        \"Hirsova\": {\"Urziceni\": 98, \"Eforie\": 86},\n",
    "        \"Eforie\": {\"Hirsova\": 86},\n",
    "        \"Vaslui\": {\"Iasi\": 92, \"Urziceni\": 142},\n",
    "        \"Iasi\": {\"Vaslui\": 92, \"Neamt\": 87},\n",
    "        \"Neamt\": {\"Iasi\": 87},\n",
    "    }\n",
    "    return listaAdj"
   ]
  },
  {
   "cell_type": "code",
   "execution_count": 8,
   "id": "fce03cc1",
   "metadata": {},
   "outputs": [],
   "source": [
    "# Função Busca em Largura\n",
    "def bfs(listaAdj: dict, cidade: str, objetivo: str) -> list:\n",
    "    # Fronteira e lista de visitados\n",
    "    fronteira = []  # Fila\n",
    "    visitados = []\n",
    "\n",
    "    # Adicionar a primeira cidade na fronteira\n",
    "    fronteira.append(cidade)\n",
    "\n",
    "    # Enquanto a fronteira não estiver vazia\n",
    "    while fronteira:\n",
    "        # Pegar a primeira cidade da fronteira (que foi inserido primeiro)\n",
    "        s = fronteira.pop(0)\n",
    "\n",
    "        # Marcar a cidade s como visitada\n",
    "        visitados.append(s)\n",
    "\n",
    "        # Verificar se s é objetivo\n",
    "        if s == objetivo:\n",
    "            break\n",
    "\n",
    "        # Armazena os vizinhos de s na fronteira\n",
    "        for vizinho in listaAdj[s].keys():\n",
    "            if vizinho not in visitados and vizinho not in fronteira:\n",
    "                fronteira.append(vizinho)\n",
    "\n",
    "    # Retorna a lista de cidades visitadas\n",
    "    return visitados"
   ]
  },
  {
   "cell_type": "code",
   "execution_count": 9,
   "id": "1c47d89e",
   "metadata": {},
   "outputs": [
    {
     "name": "stdout",
     "output_type": "stream",
     "text": [
      "Visitados: ['Arad', 'Sibiu', 'Zerind', 'Timisoara', 'Oradea', 'Fagaras', 'Rimnicu', 'Lugoj', 'Bucharest']\n"
     ]
    }
   ],
   "source": [
    "cidades = criaListaAdj()\n",
    "percurso = bfs(cidades, \"Arad\", \"Bucharest\")\n",
    "print(f\"Visitados: {percurso}\")"
   ]
  }
 ],
 "metadata": {
  "kernelspec": {
   "display_name": "Python 3 (ipykernel)",
   "language": "python",
   "name": "python3"
  },
  "language_info": {
   "codemirror_mode": {
    "name": "ipython",
    "version": 3
   },
   "file_extension": ".py",
   "mimetype": "text/x-python",
   "name": "python",
   "nbconvert_exporter": "python",
   "pygments_lexer": "ipython3",
   "version": "3.13.2"
  }
 },
 "nbformat": 4,
 "nbformat_minor": 5
}
